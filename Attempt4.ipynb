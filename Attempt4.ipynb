{
 "cells": [
  {
   "cell_type": "code",
   "execution_count": 1,
   "id": "f0f5402a",
   "metadata": {},
   "outputs": [
    {
     "ename": "ModuleNotFoundError",
     "evalue": "No module named 'numpy'",
     "output_type": "error",
     "traceback": [
      "\u001b[1;31m---------------------------------------------------------------------------\u001b[0m",
      "\u001b[1;31mModuleNotFoundError\u001b[0m                       Traceback (most recent call last)",
      "Cell \u001b[1;32mIn[1], line 1\u001b[0m\n\u001b[1;32m----> 1\u001b[0m \u001b[39mimport\u001b[39;00m \u001b[39mnumpy\u001b[39;00m \u001b[39mas\u001b[39;00m \u001b[39mnp\u001b[39;00m\n\u001b[0;32m      2\u001b[0m \u001b[39mimport\u001b[39;00m \u001b[39mmatplotlib\u001b[39;00m\u001b[39m.\u001b[39;00m\u001b[39mpyplot\u001b[39;00m \u001b[39mas\u001b[39;00m \u001b[39mplt\u001b[39;00m\n\u001b[0;32m      3\u001b[0m \u001b[39mimport\u001b[39;00m \u001b[39mmath\u001b[39;00m\n",
      "\u001b[1;31mModuleNotFoundError\u001b[0m: No module named 'numpy'"
     ]
    }
   ],
   "source": [
    "import numpy as np\n",
    "import matplotlib.pyplot as plt\n",
    "import math\n",
    "from scipy.integrate import odeint, simps, solve_ivp"
   ]
  },
  {
   "cell_type": "markdown",
   "id": "f39c3393",
   "metadata": {},
   "source": [
    "This is not the final method used to create the write up in this repo, but is given to demonsatrate the type of code written for the project."
   ]
  },
  {
   "cell_type": "code",
   "execution_count": null,
   "id": "03ecfb0d",
   "metadata": {},
   "outputs": [],
   "source": [
    "def wfn(U0,r, n, l, alpha, beta, mu, E):\n",
    "    u,v= U0\n",
    "    a = l*(l+1)\n",
    "    b = 2*mu*E\n",
    "    c = 2*mu*alpha\n",
    "    d = 2*mu*beta\n",
    "    \n",
    "    V = -(4/3)*alpha/r + beta*2\n",
    "    \n",
    "    return [v,(a/r**2)*u -2*mu*(E-V)]\n",
    "\n",
    "\n",
    "def Sqr(psi):\n",
    "    pdf = np.zeros(psi.shape)\n",
    "    for i in range(len(psi)):\n",
    "        pdf[i] = abs(psi[i])**2\n",
    "    return pdf\n",
    "\n",
    "def Normalise(pdf, psi, v, r):\n",
    "    norm = simps(pdf, r, even='first')\n",
    "    iNorm = 1/norm\n",
    "    riNorm = 1/np.sqrt(norm)\n",
    "    pdf = pdf*iNorm\n",
    "    psi = psi*riNorm\n",
    "    v = v *riNorm\n",
    "    \n",
    "    return pdf, psi, v\n",
    "\n",
    "def CountNodeTurn(u,v,r):\n",
    "    nNodes = 0\n",
    "    nTurns = 0\n",
    "    for i in range(len(r) -1):\n",
    "        crossUp = u[i] <= 0 and u[i+1] >= 0\n",
    "        crossDown = u[i] >= 0 and u[i+1] <= 0\n",
    "        \n",
    "        turnUp = v[i] >= 0 and v[i+1] <= 0\n",
    "        turnDown = v[i] <= 0 and v[i+1] >= 0\n",
    "        if crossUp or crossDown:\n",
    "            nNodes += 1\n",
    "        if turnUp or turnDown:\n",
    "            nTurns +=1\n",
    "            \n",
    "    return nNodes, nTurns"
   ]
  },
  {
   "cell_type": "code",
   "execution_count": null,
   "id": "cf2ee996",
   "metadata": {},
   "outputs": [],
   "source": [
    "def itera(n,l,U0, E1, E3, alpha, beta, mu, r):\n",
    "    '''\n",
    "        Iterates to find ur\n",
    "    '''\n",
    "    q = 0 \n",
    "    i = 0\n",
    "    while i == 0:\n",
    "        if q > 1000:\n",
    "            print(\"Iterative solution took too long to find\")\n",
    "            break\n",
    "            \n",
    "        if q%300 == 0 : print(q)\n",
    "        E2 = (E1+E3)/2\n",
    "        sol1 = odeint(wfn, U0, r, args=(1,0,alpha,beta, mu, E1))\n",
    "        sol2 = odeint(wfn, U0, r, args=(1,0,alpha,beta, mu, E2))\n",
    "        sol3 = odeint(wfn, U0, r, args=(1,0,alpha,beta, mu, E3))\n",
    "        \n",
    "        n1, t1 = CountNodeTurn(sol1[:,0], sol1[:,1], r)\n",
    "        n2, t2 = CountNodeTurn(sol2[:,0], sol2[:,1], r)\n",
    "        n3, t3 = CountNodeTurn(sol3[:,0], sol3[:,1], r)\n",
    "        \n",
    "        if n1 == (n-1) and t1 == (n):\n",
    "            print (\"Found iterative solution in\",runs,\" iterations at E1 = \",E1)\n",
    "            print(\"Nodes \", nodes1, \"Turns \", turns1)\n",
    "            finSol = sol1\n",
    "            break\n",
    "        elif n2 == (n-1) and t2 == (n):\n",
    "            print(\"Nodes \", nodes2, \"Turns \", turns2)\n",
    "            print (\"Found iterative solution in \", runs, \" iterations at E1 = \",E2)\n",
    "            finSol = sol2\n",
    "            break\n",
    "        elif n3 == (n-1) and t3 == (n):\n",
    "            print (\"Found iterative solution in \", runs, \" iterations at E1 = \",E3)\n",
    "            print(\"Nodes \", nodes3, \"Turns \", turns3)\n",
    "            finSol = sol3\n",
    "            break\n",
    "          \n",
    "        if n3 != n2 or t3 != t2:\n",
    "            E1 = E2\n",
    "            q += 1\n",
    "        if n1 != n2 or t1 != t2:\n",
    "            E3 = E2\n",
    "            q += 1\n",
    "        else:\n",
    "            q += 1\n",
    "            \n",
    "    return False"
   ]
  },
  {
   "cell_type": "code",
   "execution_count": null,
   "id": "45274e14",
   "metadata": {},
   "outputs": [],
   "source": [
    "#n,l,e,u0,cons1,cons3,d,mu,r\n",
    "U0 = [0,1]\n",
    "alpha = 0.4\n",
    "beta = 0.195\n",
    "mc = 1.34\n",
    "M10 = 3.068\n",
    "E10 = M10 - 2*mc\n",
    "#mu = mc/2\n",
    "\n",
    "invmu = 1/mc + 1/mc\n",
    "mu = 1/invmu\n",
    "r = np.linspace(0.0000001, 6, 10000)\n",
    "#sol = itera(1,0,U0,0.2, 0.5, beta, mu, r)"
   ]
  },
  {
   "cell_type": "code",
   "execution_count": null,
   "id": "a18092d1",
   "metadata": {},
   "outputs": [
    {
     "data": {
      "text/plain": [
       "[<matplotlib.lines.Line2D at 0x7f3f659d88b0>]"
      ]
     },
     "execution_count": 5,
     "metadata": {},
     "output_type": "execute_result"
    },
    {
     "data": {
      "image/png": "[encoded data removed]",
      "text/plain": [
       "<Figure size 432x288 with 1 Axes>"
      ]
     },
     "metadata": {
      "needs_background": "light"
     },
     "output_type": "display_data"
    }
   ],
   "source": [
    "U0 = [0,1]\n",
    "sol = odeint(wfn, U0, r, args=(1,0,alpha,beta, mu, E10))\n",
    "plt.plot(r, sol[:,0])"
   ]
  },
  {
   "cell_type": "code",
   "execution_count": null,
   "id": "b47e387f",
   "metadata": {},
   "outputs": [
    {
     "name": "stdout",
     "output_type": "stream",
     "text": [
      "3.4031982421874993e-06\n"
     ]
    },
    {
     "data": {
      "text/plain": [
       "[<matplotlib.lines.Line2D at 0x7f3f658da070>]"
      ]
     },
     "execution_count": 6,
     "metadata": {},
     "output_type": "execute_result"
    },
    {
     "data": {
      "image/png": "[encoded data removed]",
      "text/plain": [
       "<Figure size 432x288 with 1 Axes>"
      ]
     },
     "metadata": {
      "needs_background": "light"
     },
     "output_type": "display_data"
    }
   ],
   "source": [
    "U0 = [0,1]\n",
    "\n",
    "mu = 0.511 #m_e in MeV\n",
    "alpha = 1/137\n",
    "beta = 0 \n",
    "\n",
    "E10 = 1.3612870018543365e-05 #n,l = (1,0) energy\n",
    "E20 = 3.4031982421874993e-06 \n",
    "E21 = 3.4032287597656243e-06\n",
    "\n",
    "E = E20\n",
    "print(E)\n",
    "r = np.linspace(0.000001, 6000, 1000)\n",
    "\n",
    "n=1\n",
    "l=0\n",
    "\n",
    "sol = odeint(wfn, U0, r, args=(1,0,alpha,beta, mu, E10))\n",
    "plt.plot(r, sol[:,0])"
   ]
  },
  {
   "cell_type": "code",
   "execution_count": null,
   "id": "b3d5c77d",
   "metadata": {},
   "outputs": [],
   "source": [
    "#itera(n,l,U0, E1, E3, alpha, beta, mu, r)\n",
    "#sol = itera(1,0,U0,0.3,0.5,alpha,beta,mu,r)\n",
    "#if sol != False:\n",
    "    #plt.plot(r, sol[:,0])"
   ]
  },
  {
   "cell_type": "code",
   "execution_count": null,
   "id": "795ba603",
   "metadata": {},
   "outputs": [
    {
     "data": {
      "text/plain": [
       "[<matplotlib.lines.Line2D at 0x7f3f65512b80>]"
      ]
     },
     "execution_count": 16,
     "metadata": {},
     "output_type": "execute_result"
    },
    {
     "data": {
      "image/png": "[encoded data removed]",
      "text/plain": [
       "<Figure size 432x288 with 1 Axes>"
      ]
     },
     "metadata": {
      "needs_background": "light"
     },
     "output_type": "display_data"
    }
   ],
   "source": [
    "alpha = 1/137 * 3/4\n",
    "beta = 0\n",
    "E = 13.6e-6\n",
    "n = 1\n",
    "l = 0\n",
    "mu = 0.51099\n",
    "\n",
    "def Potential(a, b, rad):\n",
    "    return -(4/3)*a/rad + b*rad\n",
    "\n",
    "def derivatives(r, U0, L, Mu, E):\n",
    "    u,v = U0\n",
    "    return[v, u*L*(L+1)/(r**2) - 2*Mu*u*(E-Potential(alpha, beta, r))]\n",
    "\n",
    "y0 = [0,1]\n",
    "z = solve_ivp(derivatives, [0.01, 6000], y0, vectorised = True, args = (l,mu,E), rtol = 1e-10, atol = 1e-10)\n",
    "r = z.t\n",
    "u = z.y[0]\n",
    "v = z.y[1]\n",
    "\n",
    "plt.plot(r,u)"
   ]
  }
 ],
 "metadata": {
  "kernelspec": {
   "display_name": "Python 3",
   "language": "python",
   "name": "python3"
  },
  "language_info": {
   "codemirror_mode": {
    "name": "ipython",
    "version": 3
   },
   "file_extension": ".py",
   "mimetype": "text/x-python",
   "name": "python",
   "nbconvert_exporter": "python",
   "pygments_lexer": "ipython3",
   "version": "3.11.1 (tags/v3.11.1:a7a450f, Dec  6 2022, 19:58:39) [MSC v.1934 64 bit (AMD64)]"
  },
  "vscode": {
   "interpreter": {
    "hash": "544c7e72ceabb8b5baf00146d00b7c3a5bfd60d2cf41bb549c5c035fb33480da"
   }
  }
 },
 "nbformat": 4,
 "nbformat_minor": 5
}
