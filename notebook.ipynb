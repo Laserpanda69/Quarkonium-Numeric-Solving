{
 "cells": [
  {
   "cell_type": "code",
   "execution_count": 2,
   "id": "f0f5402a",
   "metadata": {},
   "outputs": [],
   "source": [
    "# !pip install --upgrade pip\n",
    "# !pip install numpy --quiet\n",
    "# !pip install matplotlib --quiet\n",
    "# !pip install scipy --quiet\n"
   ]
  },
  {
   "cell_type": "code",
   "execution_count": 3,
   "id": "ad72084b",
   "metadata": {},
   "outputs": [],
   "source": [
    "import numpy as np  \n",
    "import matplotlib.pyplot as plt\n",
    "import scipy.integrate \n"
   ]
  },
  {
   "cell_type": "code",
   "execution_count": 4,
   "id": "61631008",
   "metadata": {},
   "outputs": [],
   "source": [
    "def cornell_potential(radii: list[float], alpha: float, beta: float) -> list[float]:\n",
    "    return -(4/3)*alpha/radii + beta*radii\n",
    "\n",
    "def wave_function(U0,r, n, l, alpha, beta, mu, E):\n",
    "    u,v= U0\n",
    "    a = l*(l+1)\n",
    "    b = 2*mu*E\n",
    "    c = 2*mu*alpha\n",
    "    d = 2*mu*beta\n",
    "    \n",
    "    potential = cornell_potential(r, alpha, beta)\n",
    "    \n",
    "    return [v,(a/r**2)*u -2*mu*u*(E-potential)]\n",
    "\n",
    "def square_wavefunction(wave_function: list[float]) -> list[float]:\n",
    "    pdf = np.zeros(wave_function.shape)\n",
    "    for i in range(len(wave_function)):\n",
    "        pdf[i] = abs(wave_function[i])**2\n",
    "    return pdf\n",
    "def normalise_wavefunction(\n",
    "        probability_density_function: list[float], \n",
    "        wave_function: list[float], \n",
    "        v: list[float], \n",
    "        radii: list[float]\n",
    "    ) -> list[float]:\n",
    "    \n",
    "    norm = scipy.integrate.simpson(probability_density_function, radii)\n",
    "    recprical_norm = 1/norm\n",
    "    root_reciprical_norm = 1/np.sqrt(norm)\n",
    "    probability_density_function = probability_density_function*recprical_norm\n",
    "    wave_function = wave_function*root_reciprical_norm\n",
    "    v = v *root_reciprical_norm\n",
    "    \n",
    "    return probability_density_function, wave_function, v\n",
    "\n",
    "\n",
    "def count_nodes_and_turns(u,v,r):\n",
    "    node_count = 0\n",
    "    turn_count = 0\n",
    "    for i in range(len(r) -1):\n",
    "        cross_up = u[i] <= 0 and u[i+1] >= 0\n",
    "        cross_down = u[i] >= 0 and u[i+1] <= 0\n",
    "        \n",
    "        turn_up = v[i] >= 0 and v[i+1] <= 0\n",
    "        turn_down = v[i] <= 0 and v[i+1] >= 0\n",
    "        \n",
    "        if cross_up or cross_down:\n",
    "            node_count += 1\n",
    "        if turn_up or turn_down:\n",
    "            turn_count +=1\n",
    "            \n",
    "    return node_count, turn_count"
   ]
  },
  {
   "cell_type": "code",
   "execution_count": 5,
   "id": "ca64659b",
   "metadata": {},
   "outputs": [
    {
     "name": "stdout",
     "output_type": "stream",
     "text": [
      "0.21305281591834502\n"
     ]
    },
    {
     "data": {
      "image/png": "[encoded data removed]",
      "text/plain": [
       "<Figure size 640x480 with 1 Axes>"
      ]
     },
     "metadata": {},
     "output_type": "display_data"
    }
   ],
   "source": [
    "U0 = [0,1]\n",
    "alpha = 0.4\n",
    "beta = 0.195\n",
    "\n",
    "charm_quark_mass = 1.27\n",
    "charmonium_mass_1S = 2.9839\n",
    "# charm_quark_mass = 1.34\n",
    "# charmonium_mass_1S = 3.068\n",
    "\n",
    "charmonium_energy_1S = charmonium_mass_1S - 2*charm_quark_mass\n",
    "#mu = mc/2\n",
    "\n",
    "recpricol_reduced_mass = 1/charm_quark_mass + 1/charm_quark_mass\n",
    "reduced_mass = 1/recpricol_reduced_mass\n",
    "r = np.linspace(0.0000001, 15, 10000)\n",
    "\n",
    "def solve_quarkonium(u0, epsilon, step_size = 0.015, layer = 5):\n",
    "    divergence_has_flipped = False\n",
    "    steps_taken = 0\n",
    "    while not divergence_has_flipped:\n",
    "        epsilon_lower = epsilon + (step_size * steps_taken)\n",
    "        sol = scipy.integrate.odeint(wave_function, u0, r, args=(1,0,alpha,epsilon_lower, reduced_mass, charmonium_energy_1S))\n",
    "        u1 = sol[:,0]\n",
    "        v1 = sol[:,1]\n",
    "        \n",
    "        steps_taken += 1\n",
    "        epsilon_upper = epsilon + (step_size * steps_taken)\n",
    "        sol = scipy.integrate.odeint(wave_function, u0, r, args=(1,0,alpha,epsilon_upper, reduced_mass, charmonium_energy_1S))\n",
    "        u2 = sol[:,0]\n",
    "        v2 = sol[:,1]\n",
    "        \n",
    "        # print(f\"epsilon lower {epsilon_lower}. v1[-1] {v1[-1]}\")\n",
    "        # print(f\"epsilon upper {epsilon_upper}. v2[-1] {v2[-1]}\")\n",
    "    \n",
    "        # Divergenvce has not flipped\n",
    "        divergence_has_flipped = (v1[-1] < 0) != (v2[-1] < 0)\n",
    "        \n",
    "    gamma = (epsilon_lower+epsilon_upper)/2\n",
    "\n",
    "    # print(\"Divercence flipped\")\n",
    "    # print(\"Going to layer \", layer-1)\n",
    "    # print(f\"gamma {gamma}\")\n",
    "\n",
    "    if layer > 0:\n",
    "        # sol = scipy.integrate.odeint(wave_function, u0, r, args=(1,0,alpha,gamma, reduced_mass, charmonium_energy_1S))\n",
    "        # u = sol[:,0]\n",
    "        # plt.plot(r, u)\n",
    "        return solve_quarkonium(u0, epsilon = epsilon_lower, step_size=step_size/2, layer= layer -1)\n",
    "    \n",
    "    return gamma, scipy.integrate.odeint(wave_function, u0, r, args=(1,0,alpha,gamma, reduced_mass, charmonium_energy_1S))\n",
    "\n",
    "    \n",
    "    \n",
    "beta, sol = solve_quarkonium(U0, epsilon=0.09, layer=30)\n",
    "u = sol[:,0]\n",
    "\n",
    "print(beta)\n",
    "plt.plot(r, u)\n",
    "plt.show()\n"
   ]
  },
  {
   "cell_type": "markdown",
   "id": "f39c3393",
   "metadata": {},
   "source": [
    "This is not the final method used to create the write up in this repo, but is given to demonsatrate the type of code written for the project."
   ]
  }
 ],
 "metadata": {
  "kernelspec": {
   "display_name": "venv",
   "language": "python",
   "name": "python3"
  },
  "language_info": {
   "codemirror_mode": {
    "name": "ipython",
    "version": 3
   },
   "file_extension": ".py",
   "mimetype": "text/x-python",
   "name": "python",
   "nbconvert_exporter": "python",
   "pygments_lexer": "ipython3",
   "version": "3.13.0"
  }
 },
 "nbformat": 4,
 "nbformat_minor": 5
}
